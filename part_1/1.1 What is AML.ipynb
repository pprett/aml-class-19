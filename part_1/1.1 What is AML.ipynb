{
 "cells": [
  {
   "cell_type": "markdown",
   "metadata": {
    "slideshow": {
     "slide_type": "slide"
    }
   },
   "source": [
    "# Automated Machine Learning\n",
    "### I Tools & Techniques\n",
    "### II Creating value with automation"
   ]
  },
  {
   "cell_type": "markdown",
   "metadata": {
    "slideshow": {
     "slide_type": "slide"
    }
   },
   "source": [
    "<img src=\"img/nyt-aml.png\">\n",
    "<div style=\"text-align: right\">Source: <a href=\"https://www.nytimes.com/2017/11/05/technology/machine-learning-artificial-intelligence-ai.html\">https://www.nytimes.com/2017/11/05/technology/machine-learning-artificial-intelligence-ai.html</a></div>"
   ]
  },
  {
   "cell_type": "markdown",
   "metadata": {
    "slideshow": {
     "slide_type": "slide"
    }
   },
   "source": [
    "# Why Automated Machine Learning?\n",
    "\n",
    "ML allows us to create software components without the need to explicitly program them,\n",
    "<p/>\n",
    "however, creating software components via ML still requires substantial \"meta-programming\"."
   ]
  },
  {
   "cell_type": "markdown",
   "metadata": {
    "slideshow": {
     "slide_type": "slide"
    }
   },
   "source": [
    "<img src=\"img/rjmetrics.jpg\">\n",
    "<div style=\"text-align: right\">Source: <a href=\"https://www.globenewswire.com/news-release/2015/10/08/955703/0/en/New-Study-Finds-52-of-Data-Scientists-Have-Earned-That-Title-Within-the-Past-4-Years.html\">globalnewswire.com | RJMetrics (2015)</a></div>"
   ]
  },
  {
   "cell_type": "markdown",
   "metadata": {
    "slideshow": {
     "slide_type": "slide"
    }
   },
   "source": [
    "# ML still requires a lot of manual programming\n",
    "<img src=\"img/olson16-ml-process.png\">\n",
    "<div style=\"text-align: right\">Source: R. Olson et. al. (2016) \"Evaluation of a Tree-based Pipeline Optimization Tool for Automating Data Science.\"</div>"
   ]
  },
  {
   "cell_type": "markdown",
   "metadata": {
    "slideshow": {
     "slide_type": "slide"
    }
   },
   "source": [
    "# AML claims to automate the entire process\n",
    "<img src=\"img/olson16-automl-claim.png\">\n",
    "<div style=\"text-align: right\">Source: R. Olson et. al. (2016) \"Evaluation of a Tree-based Pipeline Optimization Tool for Automating Data Science.\"</div>"
   ]
  },
  {
   "cell_type": "markdown",
   "metadata": {
    "slideshow": {
     "slide_type": "slide"
    }
   },
   "source": [
    "# Benefits of Automated Machine Learning?\n",
    "\n",
    "## Efficiency gains\n",
    "* Workforce shortage\n",
    "* Cost optimization\n",
    "\n",
    "## Effectiveness gains\n",
    "* Consistent performance\n",
    "* Challenger modeling\n"
   ]
  },
  {
   "cell_type": "markdown",
   "metadata": {
    "slideshow": {
     "slide_type": "slide"
    }
   },
   "source": [
    "# Efficiency: (state-of-the-art) AML can help with some of this\n",
    "<img src=\"img/crowdflower-time.png\">\n",
    "<div style=\"text-align: right\">Source: <a href=\"https://visit.figure-eight.com/data-science-report.html\">https://visit.figure-eight.com/data-science-report.html</a></div>"
   ]
  },
  {
   "cell_type": "markdown",
   "metadata": {
    "slideshow": {
     "slide_type": "slide"
    }
   },
   "source": [
    "# Efficiency cont': but only with the fun part...\n",
    "<img src=\"img/crowdflower-like.png\">\n",
    "<div style=\"text-align: right\">Source: <a href=\"https://visit.figure-eight.com/data-science-report.html\">https://visit.figure-eight.com/data-science-report.html</a></div>"
   ]
  },
  {
   "cell_type": "code",
   "execution_count": null,
   "metadata": {
    "slideshow": {
     "slide_type": "slide"
    }
   },
   "outputs": [],
   "source": []
  }
 ],
 "metadata": {
  "celltoolbar": "Slideshow",
  "kernelspec": {
   "display_name": "Python 3",
   "language": "python",
   "name": "python3"
  },
  "language_info": {
   "codemirror_mode": {
    "name": "ipython",
    "version": 3
   },
   "file_extension": ".py",
   "mimetype": "text/x-python",
   "name": "python",
   "nbconvert_exporter": "python",
   "pygments_lexer": "ipython3",
   "version": "3.7.3"
  }
 },
 "nbformat": 4,
 "nbformat_minor": 2
}
