{
 "cells": [
  {
   "cell_type": "markdown",
   "metadata": {
    "slideshow": {
     "slide_type": "slide"
    }
   },
   "source": [
    "# Automated Machine Learning\n",
    "### I Tools & Techniques\n",
    "### II Creating value with automation"
   ]
  },
  {
   "cell_type": "markdown",
   "metadata": {
    "slideshow": {
     "slide_type": "slide"
    }
   },
   "source": [
    "<img src=\"img/nyt-aml.png\">\n",
    "<div style=\"text-align: right\">Source: <a href=\"https://www.nytimes.com/2017/11/05/technology/machine-learning-artificial-intelligence-ai.html\">https://www.nytimes.com/2017/11/05/technology/machine-learning-artificial-intelligence-ai.html</a></div>"
   ]
  },
  {
   "cell_type": "markdown",
   "metadata": {
    "slideshow": {
     "slide_type": "slide"
    }
   },
   "source": [
    "# Why Automated Machine Learning?\n",
    "\n",
    "ML allows us to create software components without the need to explicitly program them,\n",
    "<p/>\n",
    "however, creating software components via ML still requires substantial \"meta-programming\"."
   ]
  },
  {
   "cell_type": "markdown",
   "metadata": {
    "slideshow": {
     "slide_type": "slide"
    }
   },
   "source": [
    "<img src=\"img/rjmetrics.jpg\">\n",
    "<div style=\"text-align: right\">Source: <a href=\"https://www.globenewswire.com/news-release/2015/10/08/955703/0/en/New-Study-Finds-52-of-Data-Scientists-Have-Earned-That-Title-Within-the-Past-4-Years.html\">globalnewswire.com | RJMetrics (2015)</a></div>"
   ]
  },
  {
   "cell_type": "markdown",
   "metadata": {
    "slideshow": {
     "slide_type": "slide"
    }
   },
   "source": [
    "# ML still requires a lot of manual programming\n",
    "<img src=\"img/olson16-ml-process.png\">\n",
    "<div style=\"text-align: right\">Source: R. Olson et. al. (2016) \"Evaluation of a Tree-based Pipeline Optimization Tool for Automating Data Science.\"</div>"
   ]
  },
  {
   "cell_type": "markdown",
   "metadata": {
    "slideshow": {
     "slide_type": "slide"
    }
   },
   "source": [
    "# AML claims to automate the entire process\n",
    "<img src=\"img/olson16-automl-claim.png\">\n",
    "<div style=\"text-align: right\">Source: R. Olson et. al. (2016) \"Evaluation of a Tree-based Pipeline Optimization Tool for Automating Data Science.\"</div>"
   ]
  },
  {
   "cell_type": "markdown",
   "metadata": {
    "slideshow": {
     "slide_type": "slide"
    }
   },
   "source": [
    "# Benefits of Automated Machine Learning?\n",
    "\n",
    "## Efficiency gains\n",
    "* Workforce shortage\n",
    "* Cost optimization\n",
    "\n",
    "## Effectiveness gains\n",
    "* Consistent performance\n",
    "* Challenger modeling\n"
   ]
  },
  {
   "cell_type": "markdown",
   "metadata": {
    "slideshow": {
     "slide_type": "slide"
    }
   },
   "source": [
    "# Efficiency: (state-of-the-art) AML can help with some of this ...\n",
    "<img src=\"img/crowdflower-time.png\">\n",
    "<div style=\"text-align: right\">Source: <a href=\"https://visit.figure-eight.com/data-science-report.html\">https://visit.figure-eight.com/data-science-report.html</a></div>"
   ]
  },
  {
   "cell_type": "markdown",
   "metadata": {
    "slideshow": {
     "slide_type": "slide"
    }
   },
   "source": [
    "# Efficiency: ... but mostly the fun part.\n",
    "<img src=\"img/crowdflower-like.png\">\n",
    "<div style=\"text-align: right\">Source: <a href=\"https://visit.figure-eight.com/data-science-report.html\">https://visit.figure-eight.com/data-science-report.html</a></div>"
   ]
  },
  {
   "cell_type": "markdown",
   "metadata": {
    "slideshow": {
     "slide_type": "slide"
    }
   },
   "source": [
    "# How does AML achieve this?"
   ]
  },
  {
   "cell_type": "markdown",
   "metadata": {
    "slideshow": {
     "slide_type": "slide"
    }
   },
   "source": [
    "# Efficient tuning of hyper-parameters\n",
    "\n",
    "<img src=\"img/rolson17-hp-tuning-improvement.png\">\n",
    "<div style=\"text-align: right\">Source: R. Olson et. al. (2017) \"Data-driven Advice for Applying Machine Learning to Bioinformatics Problems.\"</div>"
   ]
  },
  {
   "cell_type": "markdown",
   "metadata": {
    "slideshow": {
     "slide_type": "slide"
    }
   },
   "source": [
    "# Selecting the right modeling approach\n",
    "\n",
    "<img src=\"img/rolson17-ranking.png\">\n",
    "<div style=\"text-align: right\">Source: R. Olson et. al. (2017) \"Data-driven Advice for Applying Machine Learning to Bioinformatics Problems.\"</div>"
   ]
  },
  {
   "cell_type": "markdown",
   "metadata": {
    "slideshow": {
     "slide_type": "slide"
    }
   },
   "source": [
    "# Modern ML is more complex than that\n",
    "<img src=\"img/rolson17-ml-pipeline.png\">\n",
    "<div style=\"text-align: right\">Source: R. Olson et. al. (2017) \"Data-driven Advice for Applying Machine Learning to Bioinformatics Problems.\"</div>"
   ]
  },
  {
   "cell_type": "markdown",
   "metadata": {
    "slideshow": {
     "slide_type": "slide"
    }
   },
   "source": [
    "# Past, Present and Future of AML\n",
    "\n",
    "* Past: parameter optimization and model selection\n",
    "\n",
    "* Present: pipeline optimization and architecture search\n",
    "\n",
    "* (Near) Future: continous learning, data cleansing & fusion, AML at-scale\n",
    "\n",
    "* Future: Autonomous Machine Learning"
   ]
  },
  {
   "cell_type": "markdown",
   "metadata": {
    "slideshow": {
     "slide_type": "slide"
    }
   },
   "source": [
    "# Agenda\n",
    "\n",
    "\n",
    "1. Introduction\n",
    "    1. What is AML?\n",
    "    1. Machine Learning 101\n",
    "    1. Model Selection & Assessment\n",
    "    1. Hyper-parameter Tuning\n",
    "    1. Debugging and Improving ML models\n",
    "\n",
    "2. AML Tools & Techniques\n",
    "    1. ML Pipelines\n",
    "    1. Hyper-parameter Optimization\n",
    "    1. Pipeline Optimization\n",
    "    1. Architecture Search in Neural Networks\n",
    "    1. Model Selection at Scale\n",
    "\n",
    "3. Using Automation to deliver Value\n",
    "    1. Continuous Learning\n",
    "    2. Model Factories\n",
    "    3. Democratization of ML"
   ]
  }
 ],
 "metadata": {
  "celltoolbar": "Slideshow",
  "kernelspec": {
   "display_name": "Python 3",
   "language": "python",
   "name": "python3"
  },
  "language_info": {
   "codemirror_mode": {
    "name": "ipython",
    "version": 3
   },
   "file_extension": ".py",
   "mimetype": "text/x-python",
   "name": "python",
   "nbconvert_exporter": "python",
   "pygments_lexer": "ipython3",
   "version": "3.7.3"
  }
 },
 "nbformat": 4,
 "nbformat_minor": 2
}
