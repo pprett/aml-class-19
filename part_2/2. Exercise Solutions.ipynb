{
 "cells": [
  {
   "cell_type": "markdown",
   "metadata": {},
   "source": [
    "# Exercise 2.1.1\n",
    "\n",
    "Build a `Pipeline` version of the `PolynomialRegressor` and search for the optimal `degree` of the polynomial."
   ]
  },
  {
   "cell_type": "code",
   "execution_count": null,
   "metadata": {},
   "outputs": [],
   "source": [
    "from sklearn.pipeline import Pipeline\n",
    "from sklearn.model_selection import GridSearchCV\n",
    "from sklearn.preprocessing import PolynomialFeatures\n",
    "from sklearn.linear_model import LinearRegression\n",
    "\n",
    "## Solution add PolynomialFeatures before LinearRegression in the pipeline\n",
    "est = Pipeline(steps=[('poly', PolynomialFeatures()), ('lr', LinearRegression())])\n",
    "\n",
    "## Use nested hyper-parameter naming to search over degree.\n",
    "gs = GridSearchCV(estimator=est, param_grid={'poly__degree': range(1, 20)}, \n",
    "                  scoring='neg_mean_squared_error', cv=3)\n",
    "\n",
    "gs.fit(X[:, np.newaxis], y)\n",
    "\n",
    "fig = plot_data(X, y, fn=true_fn)\n",
    "plot_estimator(gs.best_estimator_, fig)"
   ]
  },
  {
   "cell_type": "markdown",
   "metadata": {},
   "source": [
    "# Exercise 2.1.2\n",
    "\n",
    "Implement the following pipeline:\n",
    "\n",
    "<img src=\"img/exercise_2_1_2.png\">\n",
    "\n",
    "And tune hyper-parameters:\n",
    "  * `RandomForestRegressor(criterion='mse')` with `['mse', 'mae']`"
   ]
  },
  {
   "cell_type": "code",
   "execution_count": null,
   "metadata": {},
   "outputs": [],
   "source": [
    "from sklearn.preprocessing import OrdinalEncoder\n",
    "from sklearn.feature_selection import SelectFromModel\n",
    "from sklearn.linear_model import ElasticNet\n",
    "from sklearn.model_selection import PredefinedSplit\n",
    "from sklearn.model_selection import ShuffleSplit\n",
    "\n",
    "\n",
    "numeric_pipeline = Pipeline(steps=[\n",
    "    ('imputer', SimpleImputer(strategy='constant', fill_value=-99999)),\n",
    "    ])\n",
    "\n",
    "categorical_pipeline = Pipeline(steps=[\n",
    "    ('imputer', SimpleImputer(strategy='constant', fill_value='missing')),\n",
    "    ('onehot', OneHotEncoder(handle_unknown='ignore')),\n",
    "    ('fx_selection', SelectFromModel(ElasticNet(l1_ratio=1.0), max_features=100, threshold=None))\n",
    "])\n",
    "\n",
    "preprocessor = ColumnTransformer(\n",
    "    transformers=[\n",
    "        ('num', numeric_pipeline, numeric_features),\n",
    "        ('cat', categorical_pipeline, categorical_features),\n",
    "    ])\n",
    "\n",
    "# Append estimator to preprocessing pipeline.\n",
    "# Now we have a full prediction pipeline.\n",
    "est = Pipeline(steps=[('preprocessor', preprocessor),\n",
    "                      ('rf', RandomForestRegressor(n_estimators=20, n_jobs=-1))])\n",
    "\n",
    "# Use a simple train-test split for GridSearch\n",
    "_, test_split = next(iter(ShuffleSplit(test_size=0.2, random_state=0).split(X_train)))\n",
    "ps = PredefinedSplit(test_split)\n",
    "gs = GridSearchCV(estimator=est, param_grid={'rf__criterion': ['mse', 'mae']}, \n",
    "                  scoring='neg_mean_absolute_error', cv=2, refit=True, verbose=10)\n",
    "\n",
    "gs.fit(X_train, y_train)\n",
    "\n",
    "print(\"best params: {}\".format(gs.best_params_))\n",
    "print(\"model score: %.3f\" % mean_absolute_error(y_test, gs.best_estimator_.predict(X_test)))"
   ]
  }
 ],
 "metadata": {
  "kernelspec": {
   "display_name": "Python 3",
   "language": "python",
   "name": "python3"
  },
  "language_info": {
   "codemirror_mode": {
    "name": "ipython",
    "version": 3
   },
   "file_extension": ".py",
   "mimetype": "text/x-python",
   "name": "python",
   "nbconvert_exporter": "python",
   "pygments_lexer": "ipython3",
   "version": "3.7.3"
  }
 },
 "nbformat": 4,
 "nbformat_minor": 2
}
