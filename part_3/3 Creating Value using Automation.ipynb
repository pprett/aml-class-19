{
 "cells": [
  {
   "cell_type": "markdown",
   "metadata": {
    "slideshow": {
     "slide_type": "slide"
    }
   },
   "source": [
    "# Creating Value using Automation\n",
    "\n",
    "### 3.1 Democratizing Machine Learning\n",
    "\n",
    "### 3.2 Model Factories\n",
    "\n",
    "### 3.3 Continous Learning"
   ]
  },
  {
   "cell_type": "markdown",
   "metadata": {
    "slideshow": {
     "slide_type": "slide"
    }
   },
   "source": [
    "# Democratizing Machine Learning\n",
    "\n",
    "If AI is indeed *the new electricity* - how can we ensure that everyone gets access to it?\n",
    "\n",
    "## Barriers for democratization?\n",
    "\n",
    " - Workforce shortage\n",
    "   - Data Scientists cost top dollars and often lack the domain expertise required.\n",
    "   - Empower Domain experts (e.g. Business Analysts, SWE) instead?\n",
    " - Research -> Production Gap\n",
    "   - Building models is easy - getting them into production and business processes is hard.\n",
    "   - ~80% of ML dont get into production.\n",
    "   - Unicorn: ML Engineer (strong Data Scientist and Software Engineer w/ DevOps skills; impossible to find).\n",
    "   - [MLOps](https://en.wikipedia.org/wiki/MLOps) to the rescue \\o/\n",
    " - Access to data\n",
    "   - Data sources\n",
    "   - Data catalogues"
   ]
  },
  {
   "cell_type": "markdown",
   "metadata": {
    "slideshow": {
     "slide_type": "slide"
    }
   },
   "source": [
    "# True End-to-End Learning\n",
    "\n",
    "  - Assist/automate every step in the ML Process\n",
    "  \n",
    "<img src=\"img/guts-pa-process.png\">\n",
    "\n",
    "  \n",
    "  - Open Problems\n",
    "    * Translate Business Problems into an objective that can be optmized.\n",
    "    * Data acquistion\n",
    "    * Data cleansing\n",
    "    * Operation & maintenance (more on that later)."
   ]
  },
  {
   "cell_type": "markdown",
   "metadata": {
    "slideshow": {
     "slide_type": "slide"
    }
   },
   "source": [
    "# How can AML help in Democratization?\n",
    "\n",
    "Empower Business Analysts, Data Engineers, SWE, and Citizen Scientists to use ML to solve problems by providing capabilities to\n",
    "\n",
    "  * build accurate ML models reliabily with little to no human involvement (data acquisition, metric/partitioning selection, pipeline opt),\n",
    "  * with guardrails to avoid pitfalls and catastrophic failure (leakage),\n",
    "  * and guidance when the model should be used and when not!\n",
    "  \n",
    "Where does the AML community need to step up:\n",
    "\n",
    "  * Everywhere but pipeline optimization and hyper-parameter tuning "
   ]
  },
  {
   "cell_type": "markdown",
   "metadata": {
    "slideshow": {
     "slide_type": "slide"
    }
   },
   "source": [
    "# Model Factories\n",
    "\n",
    "As organizations become more data driven, **reliable analytics and data science** will become an essential part of staying competitive and keeping costs under control.\n",
    "\n",
    "Many Data Science teams, however, still **develop models in an ad-hoc fashion** on their workstations and hand over trained models to Data Engineers or SWEs for productionalization. \n",
    "\n",
    "### Requirements\n",
    "  * Version control of models & archiving\n",
    "  * Build & Automated testing\n",
    "  * Input data checks\n",
    "  * Reproducibility & Lineage\n",
    "  * Governance & regulatory compliance\n",
    "  * Monitoring\n",
    "  * Scheduling"
   ]
  },
  {
   "cell_type": "markdown",
   "metadata": {
    "slideshow": {
     "slide_type": "slide"
    }
   },
   "source": [
    "# Model Metadata Stores\n",
    "\n",
    "### [MLMD](https://github.com/tensorflow/tfx/blob/master/docs/guide/mlmd.md)\n",
    "<img src=\"img/mlmd_overview.png\" width=600>\n"
   ]
  }
 ],
 "metadata": {
  "celltoolbar": "Slideshow",
  "kernelspec": {
   "display_name": "Python 3",
   "language": "python",
   "name": "python3"
  },
  "language_info": {
   "codemirror_mode": {
    "name": "ipython",
    "version": 3
   },
   "file_extension": ".py",
   "mimetype": "text/x-python",
   "name": "python",
   "nbconvert_exporter": "python",
   "pygments_lexer": "ipython3",
   "version": "3.7.3"
  }
 },
 "nbformat": 4,
 "nbformat_minor": 2
}
