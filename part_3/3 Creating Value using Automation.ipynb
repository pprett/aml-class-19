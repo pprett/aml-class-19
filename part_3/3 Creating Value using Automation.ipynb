{
 "cells": [
  {
   "cell_type": "markdown",
   "metadata": {
    "slideshow": {
     "slide_type": "slide"
    }
   },
   "source": [
    "# Creating Value using Automation\n",
    "\n",
    "### 3.1 Democratizing Machine Learning\n",
    "\n",
    "### 3.2 Model Factories\n",
    "\n",
    "### 3.3 Continous Learning"
   ]
  },
  {
   "cell_type": "markdown",
   "metadata": {
    "slideshow": {
     "slide_type": "slide"
    }
   },
   "source": [
    "# Democratizing Machine Learning\n",
    "\n",
    "If AI is indeed *the new electricity* - how can we ensure that everyone gets access to it?\n",
    "\n",
    "## Barriers for democratization?\n",
    "\n",
    " - Workforce shortage\n",
    "   - Data Scientists cost top dollars and often lack the domain expertise required.\n",
    "   - Empower Domain experts (e.g. Business Analysts, SWE) instead?\n",
    " - Research -> Production Gap\n",
    "   - Building models is easy - getting them into production and business processes is hard.\n",
    "   - ~80% of ML dont get into production.\n",
    "   - Unicorn: ML Engineer (strong Data Scientist and Software Engineer w/ DevOps skills; impossible to find).\n",
    "   - [MLOps](https://en.wikipedia.org/wiki/MLOps) to the rescue \\o/\n",
    " - Access to data\n",
    "   - Data sources\n",
    "   - Data catalogues"
   ]
  },
  {
   "cell_type": "markdown",
   "metadata": {
    "slideshow": {
     "slide_type": "slide"
    }
   },
   "source": [
    "# True End-to-End Learning\n",
    "\n",
    "  - Assist/automate every step in the ML Process\n",
    "  \n",
    "<img src=\"img/guts-pa-process.png\">\n",
    "  \n",
    "  - Open Problems\n",
    "    * Problem formulation\n",
    "      - Translate Business Problems into an objective that can be optimized.\n",
    "      - Select metric and model selection scheme\n",
    "    * Data acquistion & cleansing\n",
    "      - Automated Feature Engineering\n",
    "    * Operation & maintenance (more on that later)."
   ]
  },
  {
   "cell_type": "markdown",
   "metadata": {
    "slideshow": {
     "slide_type": "slide"
    }
   },
   "source": [
    "# How can AML help in Democratization?\n",
    "\n",
    "Empower Business Analysts, Data Engineers, SWE, and Citizen Scientists to use ML to solve problems by providing capabilities to\n",
    "\n",
    "  * build accurate ML models reliabily with little to no human involvement (data acquisition, metric/partitioning selection, pipeline opt),\n",
    "  * with guardrails to avoid pitfalls and catastrophic failure (leakage),\n",
    "  * and guidance when the model should be used and when not!\n",
    "  \n",
    "Where does the AML community need to step up:\n",
    "\n",
    "  * Everywhere but pipeline optimization and hyper-parameter tuning "
   ]
  },
  {
   "cell_type": "markdown",
   "metadata": {
    "slideshow": {
     "slide_type": "slide"
    }
   },
   "source": [
    "# Model Factories\n",
    "\n",
    "As organizations become more data driven, **reliable analytics and data science** will become an essential part of staying competitive and keeping costs under control.\n",
    "\n",
    "Many Data Science teams, however, still **develop models in an ad-hoc fashion** on their workstations and hand over trained models to Data Engineers or SWEs for productionalization. \n",
    "\n",
    "### Requirements\n",
    "  * Version control of models & archiving\n",
    "  * Automated build & testing\n",
    "  * Input data checks\n",
    "  * Reproducibility & Lineage\n",
    "  * Governance & regulatory compliance\n",
    "  * Monitoring\n",
    "  * Scheduling"
   ]
  },
  {
   "cell_type": "markdown",
   "metadata": {
    "slideshow": {
     "slide_type": "slide"
    }
   },
   "source": [
    "# Model Metadata Stores\n",
    "\n",
    "### [MLMD](https://github.com/tensorflow/tfx/blob/master/docs/guide/mlmd.md)\n",
    "\n",
    "  * Provides Lineage\n",
    "    - Reproducibility\n",
    "    - Checkpointing (Pause/Resume)\n",
    "  * Versioning\n",
    "<img src=\"img/mlmd_overview.png\" width=600>\n"
   ]
  },
  {
   "cell_type": "markdown",
   "metadata": {
    "slideshow": {
     "slide_type": "slide"
    }
   },
   "source": [
    "# Automated Build & Testing\n",
    "\n",
    "### Automated Build\n",
    "\n",
    "Bundle the whole ML pipeline (and its metadata) as an artifact that can be run in isolation: \n",
    "\n",
    "  * Docker image\n",
    "  * Generated (dependency-free) code\n",
    "  * Interchange format (ONNX, ...)\n",
    "\n",
    "### (Automated) Testing\n",
    "\n",
    "  * Adversarial testing\n",
    "  * Banks and Insurance organizations have rigorous testing standards for models (*Model Risk Management*)\n",
    "    - Productionalization still requires sign-offs; \n",
    "    - tests include audits of the build process, replication and *challenger modeling*. "
   ]
  },
  {
   "cell_type": "markdown",
   "metadata": {
    "slideshow": {
     "slide_type": "slide"
    }
   },
   "source": [
    "# How can AML help in Model Factories?\n",
    "\n",
    "### Consistent Quality\n",
    "\n",
    "Having a solid model selection and assessment framework minimizes the surface for (human) error. \n",
    "\n",
    "\n",
    "### Governance\n",
    "\n",
    "Platform ensures that lineage is tracked and metadata recorded (who built what model when and how). "
   ]
  },
  {
   "cell_type": "markdown",
   "metadata": {
    "slideshow": {
     "slide_type": "slide"
    }
   },
   "source": [
    "# Case-Study: [Kubeflow](https://www.kubeflow.org/)\n",
    "\n",
    "<img src=\"img/kubeflow.png\" style=\"float: right;\">\n",
    "\n",
    "Open source ecosystem for Machine Learning (automation) for Kubernetes.\n",
    "\n",
    "Not a *Model Factory* but contains relevant building blocks.\n",
    "\n",
    "Ecosystem components:\n",
    "\n",
    "  * [Pipelines](https://www.kubeflow.org/docs/pipelines/overview/pipelines-overview/): Workflow orchestration\n",
    "  * [Argo CD](https://argoproj.github.io/argo/): Continous Delivery, GitOps\n",
    "  * [Fairing](https://github.com/kubeflow/fairing): package models trained in a Jupyter notebook\n",
    "  * [KFServing](https://github.com/kubeflow/kfserving)/SeldonCore: Model Deployment / Serving\n",
    "  * [Katib](https://github.com/kubeflow/katib): Hyper-parameter tuning"
   ]
  },
  {
   "cell_type": "markdown",
   "metadata": {
    "slideshow": {
     "slide_type": "slide"
    }
   },
   "source": [
    "# Continous Learning\n",
    "\n",
    "The world constantly changes... this begs the question:\n",
    "\n",
    "  * Are my model assessment results still valid?\n",
    "  * Am I doing worse... or can I do better?\n",
    "  \n",
    "ML Models make assumptions about the data generating process, we need to automatically recognize changes in data."
   ]
  },
  {
   "cell_type": "markdown",
   "metadata": {
    "slideshow": {
     "slide_type": "slide"
    }
   },
   "source": [
    "# Data Drift\n",
    "\n",
    "### Sources of changes\n",
    "  * Changes in DB design, broken sensors, new semantics, new user-interface alters interaction pattern, ...\n",
    "  * In real world, DBs and data sources are living, breathing, evolving entities\n",
    "  \n",
    "### Automatically detect drift\n",
    "When labels are available\n",
    "  * Run model assessment again and compare to old values.\n",
    "  \n",
    "When labels are not available\n",
    "  * Look for changes in the distribution of the predictions (using histogram distance metrics like Population-Stability-Index)\n",
    "  * Look for simple univariate statistic\n",
    "    - Fraction of missing values\n",
    "    - Fraction of new categorical levels\n",
    "    - Fraction of values outside a certain range (e.g. 2 * std)\n",
    "    \n",
    "Automatically detecting drift is hard; regularily scheduled retrains are more common."
   ]
  },
  {
   "cell_type": "markdown",
   "metadata": {
    "slideshow": {
     "slide_type": "slide"
    }
   },
   "source": [
    "# Model Monitoring Architecture\n",
    "\n",
    "<img src=\"img/model-monitoring-arch.png\" width=600>\n"
   ]
  },
  {
   "cell_type": "markdown",
   "metadata": {
    "slideshow": {
     "slide_type": "slide"
    }
   },
   "source": [
    "# What to do when Data Drift is detected?\n",
    "<img src=\"img/this-is-fine.jpg\" style=\"float: right;\" width=200>\n",
    "\n",
    "  * Warning flags / alert\n",
    "    - the model might still work (as measured by other KPIs)\n",
    "  * Default to a more robust model\n",
    "    - This is where AML can help: quickly build a model without a drifting feature.\n",
    "  * Re-train model\n",
    "    - This is usually a lengthy process..\n",
    "  * Adapt existing model\n",
    "    - This is for a different time..."
   ]
  },
  {
   "cell_type": "markdown",
   "metadata": {
    "slideshow": {
     "slide_type": "slide"
    }
   },
   "source": [
    "# Case-study: [TFX](https://www.tensorflow.org/tfx/)\n",
    "<img src=\"img/tfx-hero.svg\" style=\"float: right;\" width=300>\n",
    "\n",
    "\n",
    "TensorFlow Extended (TFX) is an end-to-end platform for deploying production ML pipelines\n",
    "\n",
    "Key building blocks (not exhaustive):\n",
    "\n",
    "  * TF Data Validation: Understand, validate and monitor data.\n",
    "  * TF Transform: Feature preprocessing as a TF graph; limits what you can do but provides safety and interoperability.\n",
    "  * [ML Metadata](https://www.tensorflow.org/tfx/guide/mlmd): Integral part of TFX, ensures compatibility of different artifacts (models)"
   ]
  },
  {
   "cell_type": "markdown",
   "metadata": {
    "slideshow": {
     "slide_type": "slide"
    }
   },
   "source": [
    "# TFX Training Orchestration\n",
    "\n",
    "<img src=\"img/tfx-airflow.png\" width=600>\n"
   ]
  }
 ],
 "metadata": {
  "celltoolbar": "Slideshow",
  "kernelspec": {
   "display_name": "Python 3",
   "language": "python",
   "name": "python3"
  },
  "language_info": {
   "codemirror_mode": {
    "name": "ipython",
    "version": 3
   },
   "file_extension": ".py",
   "mimetype": "text/x-python",
   "name": "python",
   "nbconvert_exporter": "python",
   "pygments_lexer": "ipython3",
   "version": "3.7.3"
  }
 },
 "nbformat": 4,
 "nbformat_minor": 2
}
